{
 "cells": [
  {
   "cell_type": "code",
   "execution_count": 1,
   "metadata": {},
   "outputs": [],
   "source": [
    "import pandas as pd\n",
    "from preprocessing import resample_data, create_target\n",
    "import warnings\n",
    "warnings.filterwarnings(\"ignore\")"
   ]
  },
  {
   "cell_type": "code",
   "execution_count": 2,
   "metadata": {},
   "outputs": [],
   "source": [
    "data = pd.read_csv(\"/home/kenny/algohub/data/data_eth_2018_2024.csv\")"
   ]
  },
  {
   "cell_type": "code",
   "execution_count": 3,
   "metadata": {},
   "outputs": [],
   "source": [
    "data['Time'] = pd.to_datetime(data['Time'])\n",
    "data = data.set_index(\"Time\")"
   ]
  },
  {
   "cell_type": "code",
   "execution_count": 4,
   "metadata": {},
   "outputs": [],
   "source": [
    "time_frames = [15, 30, 60, 240, 1440]\n",
    "new_data = resample_data(data, time_frames)"
   ]
  },
  {
   "cell_type": "code",
   "execution_count": 5,
   "metadata": {},
   "outputs": [
    {
     "data": {
      "text/plain": [
       "1785"
      ]
     },
     "execution_count": 5,
     "metadata": {},
     "output_type": "execute_result"
    }
   ],
   "source": [
    "new_data.isna().sum().sum()"
   ]
  },
  {
   "cell_type": "code",
   "execution_count": 6,
   "metadata": {},
   "outputs": [],
   "source": [
    "new_data.dropna(inplace=True)"
   ]
  },
  {
   "cell_type": "code",
   "execution_count": 7,
   "metadata": {},
   "outputs": [
    {
     "data": {
      "text/plain": [
       "0"
      ]
     },
     "execution_count": 7,
     "metadata": {},
     "output_type": "execute_result"
    }
   ],
   "source": [
    "new_data.isna().sum().sum()"
   ]
  },
  {
   "cell_type": "code",
   "execution_count": 8,
   "metadata": {},
   "outputs": [],
   "source": [
    "new_data = create_target(new_data, size=1500, future_time=10)"
   ]
  },
  {
   "cell_type": "code",
   "execution_count": 9,
   "metadata": {},
   "outputs": [],
   "source": [
    "new_data[\"Target\"] += 1"
   ]
  },
  {
   "cell_type": "code",
   "execution_count": 10,
   "metadata": {},
   "outputs": [
    {
     "data": {
      "text/plain": [
       "Target\n",
       "1    342208\n",
       "2    148280\n",
       "0    146031\n",
       "Name: count, dtype: int64"
      ]
     },
     "execution_count": 10,
     "metadata": {},
     "output_type": "execute_result"
    }
   ],
   "source": [
    "new_data[\"Target\"].value_counts()"
   ]
  },
  {
   "cell_type": "code",
   "execution_count": 11,
   "metadata": {},
   "outputs": [],
   "source": [
    "import lightgbm as lgb\n",
    "from sklearn.model_selection import TimeSeriesSplit\n",
    "from sklearn.metrics import classification_report, log_loss\n",
    "from optuna.trial import Trial\n",
    "import numpy as np\n",
    "import optuna"
   ]
  },
  {
   "cell_type": "code",
   "execution_count": 12,
   "metadata": {},
   "outputs": [],
   "source": [
    "begin_date = pd.to_datetime(\"2018-01-01T00:00:00\")\n",
    "end_date = pd.to_datetime(\"2023-01-01T00:00:00\")\n",
    "\n",
    "new_data_train = new_data[(new_data.index <= end_date)].copy()\n",
    "new_data_test = new_data[(new_data.index > end_date)].copy()"
   ]
  },
  {
   "cell_type": "code",
   "execution_count": 13,
   "metadata": {},
   "outputs": [],
   "source": [
    "features = list(set(new_data.columns) - set([\"Target\"]))"
   ]
  },
  {
   "cell_type": "code",
   "execution_count": 14,
   "metadata": {},
   "outputs": [],
   "source": [
    "X_train = new_data_train[features]\n",
    "y_train = new_data_train['Target']\n",
    "\n",
    "X_test = new_data_test[features]\n",
    "y_test = new_data_test['Target']\n",
    "\n",
    "# model = lgb.train(params,\n",
    "#                 lgb.Dataset(X_train, label=y_train),\n",
    "#                 valid_sets=lgb.Dataset(X_test, label=y_test))\n",
    "\n",
    "model = lgb.Booster(model_file='lgb_model.txt')\n",
    "\n",
    "y_pred = model.predict(X_test)"
   ]
  },
  {
   "cell_type": "code",
   "execution_count": 15,
   "metadata": {},
   "outputs": [
    {
     "data": {
      "text/plain": [
       "array([[0.3481336 , 0.32340632, 0.32846009],\n",
       "       [0.32577833, 0.34773227, 0.3264894 ],\n",
       "       [0.33506862, 0.32988816, 0.33504322],\n",
       "       ...,\n",
       "       [0.46896093, 0.09926931, 0.43176977],\n",
       "       [0.46896093, 0.09926931, 0.43176977],\n",
       "       [0.46896093, 0.09926931, 0.43176977]])"
      ]
     },
     "execution_count": 15,
     "metadata": {},
     "output_type": "execute_result"
    }
   ],
   "source": [
    "y_pred"
   ]
  },
  {
   "cell_type": "code",
   "execution_count": 16,
   "metadata": {},
   "outputs": [
    {
     "name": "stdout",
     "output_type": "stream",
     "text": [
      "              precision    recall  f1-score   support\n",
      "\n",
      "           0       0.28      0.85      0.43     31242\n",
      "           1       0.92      0.01      0.02     49326\n",
      "           2       0.25      0.14      0.18     31945\n",
      "\n",
      "    accuracy                           0.28    112513\n",
      "   macro avg       0.48      0.34      0.21    112513\n",
      "weighted avg       0.55      0.28      0.18    112513\n",
      "\n"
     ]
    }
   ],
   "source": [
    "print(classification_report(y_test, np.argmax(y_pred, axis=1)))"
   ]
  },
  {
   "cell_type": "code",
   "execution_count": 17,
   "metadata": {},
   "outputs": [],
   "source": [
    "new_data_test[\"Predictions\"] = np.argmax(y_pred, axis=1)"
   ]
  },
  {
   "cell_type": "code",
   "execution_count": 18,
   "metadata": {},
   "outputs": [
    {
     "data": {
      "text/html": [
       "<div>\n",
       "<style scoped>\n",
       "    .dataframe tbody tr th:only-of-type {\n",
       "        vertical-align: middle;\n",
       "    }\n",
       "\n",
       "    .dataframe tbody tr th {\n",
       "        vertical-align: top;\n",
       "    }\n",
       "\n",
       "    .dataframe thead th {\n",
       "        text-align: right;\n",
       "    }\n",
       "</style>\n",
       "<table border=\"1\" class=\"dataframe\">\n",
       "  <thead>\n",
       "    <tr style=\"text-align: right;\">\n",
       "      <th></th>\n",
       "      <th>Open</th>\n",
       "      <th>High</th>\n",
       "      <th>Low</th>\n",
       "      <th>Close</th>\n",
       "      <th>Volume</th>\n",
       "      <th>Open_15min</th>\n",
       "      <th>High_15min</th>\n",
       "      <th>Low_15min</th>\n",
       "      <th>Close_15min</th>\n",
       "      <th>Volume_15min</th>\n",
       "      <th>...</th>\n",
       "      <th>Low_240min</th>\n",
       "      <th>Close_240min</th>\n",
       "      <th>Volume_240min</th>\n",
       "      <th>Open_1440min</th>\n",
       "      <th>High_1440min</th>\n",
       "      <th>Low_1440min</th>\n",
       "      <th>Close_1440min</th>\n",
       "      <th>Volume_1440min</th>\n",
       "      <th>Target</th>\n",
       "      <th>Predictions</th>\n",
       "    </tr>\n",
       "    <tr>\n",
       "      <th>Time</th>\n",
       "      <th></th>\n",
       "      <th></th>\n",
       "      <th></th>\n",
       "      <th></th>\n",
       "      <th></th>\n",
       "      <th></th>\n",
       "      <th></th>\n",
       "      <th></th>\n",
       "      <th></th>\n",
       "      <th></th>\n",
       "      <th></th>\n",
       "      <th></th>\n",
       "      <th></th>\n",
       "      <th></th>\n",
       "      <th></th>\n",
       "      <th></th>\n",
       "      <th></th>\n",
       "      <th></th>\n",
       "      <th></th>\n",
       "      <th></th>\n",
       "      <th></th>\n",
       "    </tr>\n",
       "  </thead>\n",
       "  <tbody>\n",
       "    <tr>\n",
       "      <th>2024-01-23 00:00:00</th>\n",
       "      <td>2314.19</td>\n",
       "      <td>2319.60</td>\n",
       "      <td>2312.67</td>\n",
       "      <td>2318.20</td>\n",
       "      <td>2111.3548</td>\n",
       "      <td>2314.69</td>\n",
       "      <td>2317.53</td>\n",
       "      <td>2310.21</td>\n",
       "      <td>2314.20</td>\n",
       "      <td>5510.5777</td>\n",
       "      <td>...</td>\n",
       "      <td>2303.59</td>\n",
       "      <td>2314.2</td>\n",
       "      <td>81266.0662</td>\n",
       "      <td>2457.06</td>\n",
       "      <td>2466.10</td>\n",
       "      <td>2303.59</td>\n",
       "      <td>2314.20</td>\n",
       "      <td>526337.6492</td>\n",
       "      <td>2</td>\n",
       "      <td>0</td>\n",
       "    </tr>\n",
       "    <tr>\n",
       "      <th>2024-01-23 00:05:00</th>\n",
       "      <td>2318.19</td>\n",
       "      <td>2324.65</td>\n",
       "      <td>2317.06</td>\n",
       "      <td>2324.38</td>\n",
       "      <td>4234.1497</td>\n",
       "      <td>2314.69</td>\n",
       "      <td>2317.53</td>\n",
       "      <td>2310.21</td>\n",
       "      <td>2314.20</td>\n",
       "      <td>5510.5777</td>\n",
       "      <td>...</td>\n",
       "      <td>2303.59</td>\n",
       "      <td>2314.2</td>\n",
       "      <td>81266.0662</td>\n",
       "      <td>2457.06</td>\n",
       "      <td>2466.10</td>\n",
       "      <td>2303.59</td>\n",
       "      <td>2314.20</td>\n",
       "      <td>526337.6492</td>\n",
       "      <td>2</td>\n",
       "      <td>0</td>\n",
       "    </tr>\n",
       "    <tr>\n",
       "      <th>2024-01-23 00:10:00</th>\n",
       "      <td>2324.38</td>\n",
       "      <td>2325.39</td>\n",
       "      <td>2319.03</td>\n",
       "      <td>2322.64</td>\n",
       "      <td>1272.6943</td>\n",
       "      <td>2314.69</td>\n",
       "      <td>2317.53</td>\n",
       "      <td>2310.21</td>\n",
       "      <td>2314.20</td>\n",
       "      <td>5510.5777</td>\n",
       "      <td>...</td>\n",
       "      <td>2303.59</td>\n",
       "      <td>2314.2</td>\n",
       "      <td>81266.0662</td>\n",
       "      <td>2457.06</td>\n",
       "      <td>2466.10</td>\n",
       "      <td>2303.59</td>\n",
       "      <td>2314.20</td>\n",
       "      <td>526337.6492</td>\n",
       "      <td>2</td>\n",
       "      <td>0</td>\n",
       "    </tr>\n",
       "    <tr>\n",
       "      <th>2024-01-23 00:15:00</th>\n",
       "      <td>2322.65</td>\n",
       "      <td>2327.11</td>\n",
       "      <td>2321.85</td>\n",
       "      <td>2326.12</td>\n",
       "      <td>1211.0385</td>\n",
       "      <td>2314.19</td>\n",
       "      <td>2325.39</td>\n",
       "      <td>2312.67</td>\n",
       "      <td>2322.64</td>\n",
       "      <td>7618.1988</td>\n",
       "      <td>...</td>\n",
       "      <td>2303.59</td>\n",
       "      <td>2314.2</td>\n",
       "      <td>81266.0662</td>\n",
       "      <td>2457.06</td>\n",
       "      <td>2466.10</td>\n",
       "      <td>2303.59</td>\n",
       "      <td>2314.20</td>\n",
       "      <td>526337.6492</td>\n",
       "      <td>1</td>\n",
       "      <td>0</td>\n",
       "    </tr>\n",
       "    <tr>\n",
       "      <th>2024-01-23 00:20:00</th>\n",
       "      <td>2326.11</td>\n",
       "      <td>2327.62</td>\n",
       "      <td>2324.46</td>\n",
       "      <td>2324.80</td>\n",
       "      <td>927.3362</td>\n",
       "      <td>2314.19</td>\n",
       "      <td>2325.39</td>\n",
       "      <td>2312.67</td>\n",
       "      <td>2322.64</td>\n",
       "      <td>7618.1988</td>\n",
       "      <td>...</td>\n",
       "      <td>2303.59</td>\n",
       "      <td>2314.2</td>\n",
       "      <td>81266.0662</td>\n",
       "      <td>2457.06</td>\n",
       "      <td>2466.10</td>\n",
       "      <td>2303.59</td>\n",
       "      <td>2314.20</td>\n",
       "      <td>526337.6492</td>\n",
       "      <td>2</td>\n",
       "      <td>0</td>\n",
       "    </tr>\n",
       "    <tr>\n",
       "      <th>...</th>\n",
       "      <td>...</td>\n",
       "      <td>...</td>\n",
       "      <td>...</td>\n",
       "      <td>...</td>\n",
       "      <td>...</td>\n",
       "      <td>...</td>\n",
       "      <td>...</td>\n",
       "      <td>...</td>\n",
       "      <td>...</td>\n",
       "      <td>...</td>\n",
       "      <td>...</td>\n",
       "      <td>...</td>\n",
       "      <td>...</td>\n",
       "      <td>...</td>\n",
       "      <td>...</td>\n",
       "      <td>...</td>\n",
       "      <td>...</td>\n",
       "      <td>...</td>\n",
       "      <td>...</td>\n",
       "      <td>...</td>\n",
       "      <td>...</td>\n",
       "    </tr>\n",
       "    <tr>\n",
       "      <th>2024-01-26 17:05:00</th>\n",
       "      <td>2279.86</td>\n",
       "      <td>2279.86</td>\n",
       "      <td>2275.00</td>\n",
       "      <td>2275.50</td>\n",
       "      <td>2430.7836</td>\n",
       "      <td>2270.88</td>\n",
       "      <td>2281.88</td>\n",
       "      <td>2269.11</td>\n",
       "      <td>2279.55</td>\n",
       "      <td>8583.4797</td>\n",
       "      <td>...</td>\n",
       "      <td>2234.46</td>\n",
       "      <td>2257.9</td>\n",
       "      <td>71448.4567</td>\n",
       "      <td>2235.02</td>\n",
       "      <td>2242.89</td>\n",
       "      <td>2171.30</td>\n",
       "      <td>2218.64</td>\n",
       "      <td>330426.6061</td>\n",
       "      <td>0</td>\n",
       "      <td>0</td>\n",
       "    </tr>\n",
       "    <tr>\n",
       "      <th>2024-01-26 17:10:00</th>\n",
       "      <td>2275.49</td>\n",
       "      <td>2276.69</td>\n",
       "      <td>2273.27</td>\n",
       "      <td>2273.68</td>\n",
       "      <td>2095.0957</td>\n",
       "      <td>2270.88</td>\n",
       "      <td>2281.88</td>\n",
       "      <td>2269.11</td>\n",
       "      <td>2279.55</td>\n",
       "      <td>8583.4797</td>\n",
       "      <td>...</td>\n",
       "      <td>2234.46</td>\n",
       "      <td>2257.9</td>\n",
       "      <td>71448.4567</td>\n",
       "      <td>2235.02</td>\n",
       "      <td>2242.89</td>\n",
       "      <td>2171.30</td>\n",
       "      <td>2218.64</td>\n",
       "      <td>330426.6061</td>\n",
       "      <td>0</td>\n",
       "      <td>0</td>\n",
       "    </tr>\n",
       "    <tr>\n",
       "      <th>2024-01-26 17:15:00</th>\n",
       "      <td>2273.69</td>\n",
       "      <td>2276.53</td>\n",
       "      <td>2271.82</td>\n",
       "      <td>2273.11</td>\n",
       "      <td>1503.6535</td>\n",
       "      <td>2279.55</td>\n",
       "      <td>2282.36</td>\n",
       "      <td>2273.27</td>\n",
       "      <td>2273.68</td>\n",
       "      <td>6643.3847</td>\n",
       "      <td>...</td>\n",
       "      <td>2234.46</td>\n",
       "      <td>2257.9</td>\n",
       "      <td>71448.4567</td>\n",
       "      <td>2235.02</td>\n",
       "      <td>2242.89</td>\n",
       "      <td>2171.30</td>\n",
       "      <td>2218.64</td>\n",
       "      <td>330426.6061</td>\n",
       "      <td>0</td>\n",
       "      <td>0</td>\n",
       "    </tr>\n",
       "    <tr>\n",
       "      <th>2024-01-26 17:20:00</th>\n",
       "      <td>2273.12</td>\n",
       "      <td>2274.31</td>\n",
       "      <td>2267.48</td>\n",
       "      <td>2268.66</td>\n",
       "      <td>1744.3312</td>\n",
       "      <td>2279.55</td>\n",
       "      <td>2282.36</td>\n",
       "      <td>2273.27</td>\n",
       "      <td>2273.68</td>\n",
       "      <td>6643.3847</td>\n",
       "      <td>...</td>\n",
       "      <td>2234.46</td>\n",
       "      <td>2257.9</td>\n",
       "      <td>71448.4567</td>\n",
       "      <td>2235.02</td>\n",
       "      <td>2242.89</td>\n",
       "      <td>2171.30</td>\n",
       "      <td>2218.64</td>\n",
       "      <td>330426.6061</td>\n",
       "      <td>1</td>\n",
       "      <td>0</td>\n",
       "    </tr>\n",
       "    <tr>\n",
       "      <th>2024-01-26 17:25:00</th>\n",
       "      <td>2268.66</td>\n",
       "      <td>2271.18</td>\n",
       "      <td>2267.06</td>\n",
       "      <td>2267.93</td>\n",
       "      <td>1032.9590</td>\n",
       "      <td>2279.55</td>\n",
       "      <td>2282.36</td>\n",
       "      <td>2273.27</td>\n",
       "      <td>2273.68</td>\n",
       "      <td>6643.3847</td>\n",
       "      <td>...</td>\n",
       "      <td>2234.46</td>\n",
       "      <td>2257.9</td>\n",
       "      <td>71448.4567</td>\n",
       "      <td>2235.02</td>\n",
       "      <td>2242.89</td>\n",
       "      <td>2171.30</td>\n",
       "      <td>2218.64</td>\n",
       "      <td>330426.6061</td>\n",
       "      <td>1</td>\n",
       "      <td>0</td>\n",
       "    </tr>\n",
       "  </tbody>\n",
       "</table>\n",
       "<p>1074 rows × 32 columns</p>\n",
       "</div>"
      ],
      "text/plain": [
       "                        Open     High      Low    Close     Volume  \\\n",
       "Time                                                                 \n",
       "2024-01-23 00:00:00  2314.19  2319.60  2312.67  2318.20  2111.3548   \n",
       "2024-01-23 00:05:00  2318.19  2324.65  2317.06  2324.38  4234.1497   \n",
       "2024-01-23 00:10:00  2324.38  2325.39  2319.03  2322.64  1272.6943   \n",
       "2024-01-23 00:15:00  2322.65  2327.11  2321.85  2326.12  1211.0385   \n",
       "2024-01-23 00:20:00  2326.11  2327.62  2324.46  2324.80   927.3362   \n",
       "...                      ...      ...      ...      ...        ...   \n",
       "2024-01-26 17:05:00  2279.86  2279.86  2275.00  2275.50  2430.7836   \n",
       "2024-01-26 17:10:00  2275.49  2276.69  2273.27  2273.68  2095.0957   \n",
       "2024-01-26 17:15:00  2273.69  2276.53  2271.82  2273.11  1503.6535   \n",
       "2024-01-26 17:20:00  2273.12  2274.31  2267.48  2268.66  1744.3312   \n",
       "2024-01-26 17:25:00  2268.66  2271.18  2267.06  2267.93  1032.9590   \n",
       "\n",
       "                     Open_15min  High_15min  Low_15min  Close_15min  \\\n",
       "Time                                                                  \n",
       "2024-01-23 00:00:00     2314.69     2317.53    2310.21      2314.20   \n",
       "2024-01-23 00:05:00     2314.69     2317.53    2310.21      2314.20   \n",
       "2024-01-23 00:10:00     2314.69     2317.53    2310.21      2314.20   \n",
       "2024-01-23 00:15:00     2314.19     2325.39    2312.67      2322.64   \n",
       "2024-01-23 00:20:00     2314.19     2325.39    2312.67      2322.64   \n",
       "...                         ...         ...        ...          ...   \n",
       "2024-01-26 17:05:00     2270.88     2281.88    2269.11      2279.55   \n",
       "2024-01-26 17:10:00     2270.88     2281.88    2269.11      2279.55   \n",
       "2024-01-26 17:15:00     2279.55     2282.36    2273.27      2273.68   \n",
       "2024-01-26 17:20:00     2279.55     2282.36    2273.27      2273.68   \n",
       "2024-01-26 17:25:00     2279.55     2282.36    2273.27      2273.68   \n",
       "\n",
       "                     Volume_15min  ...  Low_240min  Close_240min  \\\n",
       "Time                               ...                             \n",
       "2024-01-23 00:00:00     5510.5777  ...     2303.59        2314.2   \n",
       "2024-01-23 00:05:00     5510.5777  ...     2303.59        2314.2   \n",
       "2024-01-23 00:10:00     5510.5777  ...     2303.59        2314.2   \n",
       "2024-01-23 00:15:00     7618.1988  ...     2303.59        2314.2   \n",
       "2024-01-23 00:20:00     7618.1988  ...     2303.59        2314.2   \n",
       "...                           ...  ...         ...           ...   \n",
       "2024-01-26 17:05:00     8583.4797  ...     2234.46        2257.9   \n",
       "2024-01-26 17:10:00     8583.4797  ...     2234.46        2257.9   \n",
       "2024-01-26 17:15:00     6643.3847  ...     2234.46        2257.9   \n",
       "2024-01-26 17:20:00     6643.3847  ...     2234.46        2257.9   \n",
       "2024-01-26 17:25:00     6643.3847  ...     2234.46        2257.9   \n",
       "\n",
       "                     Volume_240min  Open_1440min  High_1440min  Low_1440min  \\\n",
       "Time                                                                          \n",
       "2024-01-23 00:00:00     81266.0662       2457.06       2466.10      2303.59   \n",
       "2024-01-23 00:05:00     81266.0662       2457.06       2466.10      2303.59   \n",
       "2024-01-23 00:10:00     81266.0662       2457.06       2466.10      2303.59   \n",
       "2024-01-23 00:15:00     81266.0662       2457.06       2466.10      2303.59   \n",
       "2024-01-23 00:20:00     81266.0662       2457.06       2466.10      2303.59   \n",
       "...                            ...           ...           ...          ...   \n",
       "2024-01-26 17:05:00     71448.4567       2235.02       2242.89      2171.30   \n",
       "2024-01-26 17:10:00     71448.4567       2235.02       2242.89      2171.30   \n",
       "2024-01-26 17:15:00     71448.4567       2235.02       2242.89      2171.30   \n",
       "2024-01-26 17:20:00     71448.4567       2235.02       2242.89      2171.30   \n",
       "2024-01-26 17:25:00     71448.4567       2235.02       2242.89      2171.30   \n",
       "\n",
       "                     Close_1440min  Volume_1440min  Target  Predictions  \n",
       "Time                                                                     \n",
       "2024-01-23 00:00:00        2314.20     526337.6492       2            0  \n",
       "2024-01-23 00:05:00        2314.20     526337.6492       2            0  \n",
       "2024-01-23 00:10:00        2314.20     526337.6492       2            0  \n",
       "2024-01-23 00:15:00        2314.20     526337.6492       1            0  \n",
       "2024-01-23 00:20:00        2314.20     526337.6492       2            0  \n",
       "...                            ...             ...     ...          ...  \n",
       "2024-01-26 17:05:00        2218.64     330426.6061       0            0  \n",
       "2024-01-26 17:10:00        2218.64     330426.6061       0            0  \n",
       "2024-01-26 17:15:00        2218.64     330426.6061       0            0  \n",
       "2024-01-26 17:20:00        2218.64     330426.6061       1            0  \n",
       "2024-01-26 17:25:00        2218.64     330426.6061       1            0  \n",
       "\n",
       "[1074 rows x 32 columns]"
      ]
     },
     "execution_count": 18,
     "metadata": {},
     "output_type": "execute_result"
    }
   ],
   "source": [
    "begin_date = pd.to_datetime(\"2024-01-23T00:00:00\")\n",
    "template = new_data_test[new_data_test.index>=begin_date].copy()\n",
    "template"
   ]
  },
  {
   "cell_type": "code",
   "execution_count": 19,
   "metadata": {},
   "outputs": [],
   "source": [
    "template[\"Predictions\"] = np.argmax(model.predict(template[features]), axis=1)"
   ]
  },
  {
   "cell_type": "code",
   "execution_count": 21,
   "metadata": {},
   "outputs": [
    {
     "data": {
      "text/plain": [
       "Start                     2023-01-01 00:05:00\n",
       "End                       2024-01-26 17:25:00\n",
       "Duration                    390 days 17:20:00\n",
       "Exposure Time [%]                    3.415605\n",
       "Equity Final [$]                  9367.274388\n",
       "Equity Peak [$]                       10000.0\n",
       "Return [%]                          -6.327256\n",
       "Buy & Hold Return [%]               89.724606\n",
       "Return (Ann.) [%]                   -5.693861\n",
       "Volatility (Ann.) [%]                1.654777\n",
       "Sharpe Ratio                              0.0\n",
       "Sortino Ratio                             0.0\n",
       "Calmar Ratio                              0.0\n",
       "Max. Drawdown [%]                   -6.327256\n",
       "Avg. Drawdown [%]                   -6.327256\n",
       "Max. Drawdown Duration      390 days 17:10:00\n",
       "Avg. Drawdown Duration      390 days 17:10:00\n",
       "# Trades                                  569\n",
       "Win Rate [%]                        26.537786\n",
       "Best Trade [%]                       1.960784\n",
       "Worst Trade [%]                     -1.091695\n",
       "Avg. Trade [%]                      -0.086953\n",
       "Max. Trade Duration           0 days 21:45:00\n",
       "Avg. Trade Duration           0 days 00:34:00\n",
       "Profit Factor                         0.25669\n",
       "Expectancy [%]                      -0.086506\n",
       "SQN                                 -6.578385\n",
       "_strategy                              Simple\n",
       "_equity_curve                             ...\n",
       "_trades                        Size  Entry...\n",
       "dtype: object"
      ]
     },
     "execution_count": 21,
     "metadata": {},
     "output_type": "execute_result"
    }
   ],
   "source": [
    "from strategies import Simple\n",
    "from backtesting import Backtest\n",
    "\n",
    "\n",
    "artisanal_lightgbm = Backtest(new_data_test[features + [\"Predictions\"]], Simple, cash=10000, commission=.0004, margin=1)\n",
    "output = artisanal_lightgbm.run()\n",
    "output"
   ]
  },
  {
   "cell_type": "code",
   "execution_count": 23,
   "metadata": {},
   "outputs": [
    {
     "name": "stderr",
     "output_type": "stream",
     "text": [
      "BokehDeprecationWarning: Passing lists of formats for DatetimeTickFormatter scales was deprecated in Bokeh 3.0. Configure a single string format for each scale\n",
      "BokehDeprecationWarning: Passing lists of formats for DatetimeTickFormatter scales was deprecated in Bokeh 3.0. Configure a single string format for each scale\n"
     ]
    },
    {
     "data": {
      "text/html": [
       "<div style=\"display: table;\"><div style=\"display: table-row;\"><div style=\"display: table-cell;\"><b title=\"bokeh.models.plots.GridPlot\">GridPlot</b>(</div><div style=\"display: table-cell;\">id&nbsp;=&nbsp;'p1350', <span id=\"p1381\" style=\"cursor: pointer;\">&hellip;)</span></div></div><div class=\"p1380\" style=\"display: none;\"><div style=\"display: table-cell;\"></div><div style=\"display: table-cell;\">align&nbsp;=&nbsp;'auto',</div></div><div class=\"p1380\" style=\"display: none;\"><div style=\"display: table-cell;\"></div><div style=\"display: table-cell;\">aspect_ratio&nbsp;=&nbsp;None,</div></div><div class=\"p1380\" style=\"display: none;\"><div style=\"display: table-cell;\"></div><div style=\"display: table-cell;\">children&nbsp;=&nbsp;[(figure(id='p1046', ...), 0, 0), (figure(id='p1143', ...), 1, 0), (figure(id='p1002', ...), 2, 0), (figure(id='p1198', ...), 3, 0), (figure(id='p1293', ...), 4, 0)],</div></div><div class=\"p1380\" style=\"display: none;\"><div style=\"display: table-cell;\"></div><div style=\"display: table-cell;\">cols&nbsp;=&nbsp;None,</div></div><div class=\"p1380\" style=\"display: none;\"><div style=\"display: table-cell;\"></div><div style=\"display: table-cell;\">context_menu&nbsp;=&nbsp;None,</div></div><div class=\"p1380\" style=\"display: none;\"><div style=\"display: table-cell;\"></div><div style=\"display: table-cell;\">css_classes&nbsp;=&nbsp;[],</div></div><div class=\"p1380\" style=\"display: none;\"><div style=\"display: table-cell;\"></div><div style=\"display: table-cell;\">disabled&nbsp;=&nbsp;False,</div></div><div class=\"p1380\" style=\"display: none;\"><div style=\"display: table-cell;\"></div><div style=\"display: table-cell;\">flow_mode&nbsp;=&nbsp;'block',</div></div><div class=\"p1380\" style=\"display: none;\"><div style=\"display: table-cell;\"></div><div style=\"display: table-cell;\">height&nbsp;=&nbsp;None,</div></div><div class=\"p1380\" style=\"display: none;\"><div style=\"display: table-cell;\"></div><div style=\"display: table-cell;\">height_policy&nbsp;=&nbsp;'auto',</div></div><div class=\"p1380\" style=\"display: none;\"><div style=\"display: table-cell;\"></div><div style=\"display: table-cell;\">js_event_callbacks&nbsp;=&nbsp;{},</div></div><div class=\"p1380\" style=\"display: none;\"><div style=\"display: table-cell;\"></div><div style=\"display: table-cell;\">js_property_callbacks&nbsp;=&nbsp;{},</div></div><div class=\"p1380\" style=\"display: none;\"><div style=\"display: table-cell;\"></div><div style=\"display: table-cell;\">margin&nbsp;=&nbsp;None,</div></div><div class=\"p1380\" style=\"display: none;\"><div style=\"display: table-cell;\"></div><div style=\"display: table-cell;\">max_height&nbsp;=&nbsp;None,</div></div><div class=\"p1380\" style=\"display: none;\"><div style=\"display: table-cell;\"></div><div style=\"display: table-cell;\">max_width&nbsp;=&nbsp;None,</div></div><div class=\"p1380\" style=\"display: none;\"><div style=\"display: table-cell;\"></div><div style=\"display: table-cell;\">min_height&nbsp;=&nbsp;None,</div></div><div class=\"p1380\" style=\"display: none;\"><div style=\"display: table-cell;\"></div><div style=\"display: table-cell;\">min_width&nbsp;=&nbsp;None,</div></div><div class=\"p1380\" style=\"display: none;\"><div style=\"display: table-cell;\"></div><div style=\"display: table-cell;\">name&nbsp;=&nbsp;None,</div></div><div class=\"p1380\" style=\"display: none;\"><div style=\"display: table-cell;\"></div><div style=\"display: table-cell;\">resizable&nbsp;=&nbsp;False,</div></div><div class=\"p1380\" style=\"display: none;\"><div style=\"display: table-cell;\"></div><div style=\"display: table-cell;\">rows&nbsp;=&nbsp;None,</div></div><div class=\"p1380\" style=\"display: none;\"><div style=\"display: table-cell;\"></div><div style=\"display: table-cell;\">sizing_mode&nbsp;=&nbsp;'stretch_width',</div></div><div class=\"p1380\" style=\"display: none;\"><div style=\"display: table-cell;\"></div><div style=\"display: table-cell;\">spacing&nbsp;=&nbsp;0,</div></div><div class=\"p1380\" style=\"display: none;\"><div style=\"display: table-cell;\"></div><div style=\"display: table-cell;\">styles&nbsp;=&nbsp;{},</div></div><div class=\"p1380\" style=\"display: none;\"><div style=\"display: table-cell;\"></div><div style=\"display: table-cell;\">stylesheets&nbsp;=&nbsp;[],</div></div><div class=\"p1380\" style=\"display: none;\"><div style=\"display: table-cell;\"></div><div style=\"display: table-cell;\">subscribed_events&nbsp;=&nbsp;PropertyValueSet(),</div></div><div class=\"p1380\" style=\"display: none;\"><div style=\"display: table-cell;\"></div><div style=\"display: table-cell;\">syncable&nbsp;=&nbsp;True,</div></div><div class=\"p1380\" style=\"display: none;\"><div style=\"display: table-cell;\"></div><div style=\"display: table-cell;\">tags&nbsp;=&nbsp;[],</div></div><div class=\"p1380\" style=\"display: none;\"><div style=\"display: table-cell;\"></div><div style=\"display: table-cell;\">toolbar&nbsp;=&nbsp;Toolbar(id='p1349', ...),</div></div><div class=\"p1380\" style=\"display: none;\"><div style=\"display: table-cell;\"></div><div style=\"display: table-cell;\">toolbar_location&nbsp;=&nbsp;'right',</div></div><div class=\"p1380\" style=\"display: none;\"><div style=\"display: table-cell;\"></div><div style=\"display: table-cell;\">visible&nbsp;=&nbsp;True,</div></div><div class=\"p1380\" style=\"display: none;\"><div style=\"display: table-cell;\"></div><div style=\"display: table-cell;\">width&nbsp;=&nbsp;None,</div></div><div class=\"p1380\" style=\"display: none;\"><div style=\"display: table-cell;\"></div><div style=\"display: table-cell;\">width_policy&nbsp;=&nbsp;'auto')</div></div></div>\n",
       "<script>\n",
       "(function() {\n",
       "  let expanded = false;\n",
       "  const ellipsis = document.getElementById(\"p1381\");\n",
       "  ellipsis.addEventListener(\"click\", function() {\n",
       "    const rows = document.getElementsByClassName(\"p1380\");\n",
       "    for (let i = 0; i < rows.length; i++) {\n",
       "      const el = rows[i];\n",
       "      el.style.display = expanded ? \"none\" : \"table-row\";\n",
       "    }\n",
       "    ellipsis.innerHTML = expanded ? \"&hellip;)\" : \"&lsaquo;&lsaquo;&lsaquo;\";\n",
       "    expanded = !expanded;\n",
       "  });\n",
       "})();\n",
       "</script>\n"
      ],
      "text/plain": [
       "GridPlot(id='p1350', ...)"
      ]
     },
     "execution_count": 23,
     "metadata": {},
     "output_type": "execute_result"
    }
   ],
   "source": [
    "artisanal_lightgbm.plot(resample=False)"
   ]
  },
  {
   "cell_type": "code",
   "execution_count": null,
   "metadata": {},
   "outputs": [],
   "source": []
  }
 ],
 "metadata": {
  "kernelspec": {
   "display_name": "algohub",
   "language": "python",
   "name": "python3"
  },
  "language_info": {
   "codemirror_mode": {
    "name": "ipython",
    "version": 3
   },
   "file_extension": ".py",
   "mimetype": "text/x-python",
   "name": "python",
   "nbconvert_exporter": "python",
   "pygments_lexer": "ipython3",
   "version": "3.12.1"
  }
 },
 "nbformat": 4,
 "nbformat_minor": 2
}
